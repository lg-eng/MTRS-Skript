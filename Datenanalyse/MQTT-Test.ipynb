{
 "cells": [
  {
   "cell_type": "code",
   "execution_count": 1,
   "metadata": {},
   "outputs": [
    {
     "name": "stdout",
     "output_type": "stream",
     "text": [
      "test b'1'\n"
     ]
    },
    {
     "ename": "AttributeError",
     "evalue": "'int' object has no attribute 'update'",
     "output_type": "error",
     "traceback": [
      "\u001b[1;31m---------------------------------------------------------------------------\u001b[0m",
      "\u001b[1;31mAttributeError\u001b[0m                            Traceback (most recent call last)",
      "Cell \u001b[1;32mIn[1], line 31\u001b[0m\n\u001b[0;32m     29\u001b[0m date \u001b[38;5;241m=\u001b[39m datetime\u001b[38;5;241m.\u001b[39mnow() \u001b[38;5;66;03m#get the current date and time\u001b[39;00m\n\u001b[0;32m     30\u001b[0m timestamp_dict \u001b[38;5;241m=\u001b[39m {\u001b[38;5;124m\"\u001b[39m\u001b[38;5;124mtime\u001b[39m\u001b[38;5;124m\"\u001b[39m:datetime\u001b[38;5;241m.\u001b[39mnow()} \u001b[38;5;66;03m#create a dictionary with the timestamp\u001b[39;00m\n\u001b[1;32m---> 31\u001b[0m val\u001b[38;5;241m.\u001b[39mupdate(timestamp_dict) \u001b[38;5;66;03m#add the timestamp to the dictionary\u001b[39;00m\n\u001b[0;32m     32\u001b[0m df_dictionary \u001b[38;5;241m=\u001b[39m pd\u001b[38;5;241m.\u001b[39mDataFrame([val]) \u001b[38;5;66;03m#create a dataframe from the dictionary\u001b[39;00m\n\u001b[0;32m     33\u001b[0m df \u001b[38;5;241m=\u001b[39m pd\u001b[38;5;241m.\u001b[39mconcat([df, df_dictionary], ignore_index\u001b[38;5;241m=\u001b[39m\u001b[38;5;28;01mTrue\u001b[39;00m) \u001b[38;5;66;03m#concatenate the dataframes\u001b[39;00m\n",
      "\u001b[1;31mAttributeError\u001b[0m: 'int' object has no attribute 'update'"
     ]
    }
   ],
   "source": [
    "import paho.mqtt.client as mqtt #import the mqtt client\n",
    "import pandas as pd #import the pandas library\n",
    "import time #import the time library\n",
    "import json #import the json library\n",
    "from datetime import datetime, timedelta, date #import the datetime library\n",
    "\n",
    "def on_connect(client, userdata, flags, rc): #define the on_connect function\n",
    "    client.subscribe(\"test\") #subscribe to the test topic, replace with your own topic\n",
    "\n",
    "def on_message(client, userdata, msg): #define the on_message function\n",
    "    print(msg.topic + \" \" + str(msg.payload)) #print the topic and the message\n",
    "    val_string = msg.payload.decode() #decode the message\n",
    "    global val #make the val variable global\n",
    "    val = json.loads(val_string) #load the json string into the val variable\n",
    "\n",
    "val = None #initialize the val variable\n",
    "df = pd.DataFrame() #initialize the dataframe\n",
    "client = mqtt.Client() #create a new mqtt client\n",
    "client.on_connect = on_connect #set the on_connect function\n",
    "client.on_message = on_message #set the on_message function\n",
    "\n",
    "mqtt_server_url = \"test.mosquitto.org\" #define the mqtt server url\n",
    "client.connect(mqtt_server_url, 1883, 60) #connect to the mqtt server\n",
    "\n",
    "client.loop_start() #start the loop\n",
    "for i in range(2): #run the loop for x times resulting in x messages being received\n",
    "    while val is None: #wait for the message to be received\n",
    "        time.sleep(0.1) #sleep for 0.1 seconds\n",
    "    date = datetime.now() #get the current date and time\n",
    "    timestamp_dict = {\"time\":datetime.now()} #create a dictionary with the timestamp\n",
    "    val.update(timestamp_dict) #add the timestamp to the dictionary\n",
    "    df_dictionary = pd.DataFrame([val]) #create a dataframe from the dictionary\n",
    "    df = pd.concat([df, df_dictionary], ignore_index=True) #concatenate the dataframes\n",
    "    val = None #reset the val variable\n",
    "client.loop_stop() #stop the loop\n",
    "display(df) #display the dataframe"
   ]
  },
  {
   "cell_type": "code",
   "execution_count": 8,
   "metadata": {},
   "outputs": [
    {
     "name": "stdout",
     "output_type": "stream",
     "text": [
      "In on_message\n",
      "test b'1'\n",
      "In on_message\n",
      "test b'{\"id\":\"80:65:99:83:D6:CC\",\"name\":\"cid1\",\"up\":256582,\"vcc\":0.000,\"rssi\":-62,\"temp\":-127.00,\"version\":\"gPlugM-v2.2.21\"}'\n"
     ]
    },
    {
     "data": {
      "text/html": [
       "<div>\n",
       "<style scoped>\n",
       "    .dataframe tbody tr th:only-of-type {\n",
       "        vertical-align: middle;\n",
       "    }\n",
       "\n",
       "    .dataframe tbody tr th {\n",
       "        vertical-align: top;\n",
       "    }\n",
       "\n",
       "    .dataframe thead th {\n",
       "        text-align: right;\n",
       "    }\n",
       "</style>\n",
       "<table border=\"1\" class=\"dataframe\">\n",
       "  <thead>\n",
       "    <tr style=\"text-align: right;\">\n",
       "      <th></th>\n",
       "      <th>0</th>\n",
       "    </tr>\n",
       "  </thead>\n",
       "  <tbody>\n",
       "    <tr>\n",
       "      <th>2024-05-02 07:46:01.116306</th>\n",
       "      <td>1</td>\n",
       "    </tr>\n",
       "    <tr>\n",
       "      <th>2024-05-02 07:46:30.853344</th>\n",
       "      <td>{\"id\":\"80:65:99:83:D6:CC\",\"name\":\"cid1\",\"up\":2...</td>\n",
       "    </tr>\n",
       "  </tbody>\n",
       "</table>\n",
       "</div>"
      ],
      "text/plain": [
       "                                                                            0\n",
       "2024-05-02 07:46:01.116306                                                  1\n",
       "2024-05-02 07:46:30.853344  {\"id\":\"80:65:99:83:D6:CC\",\"name\":\"cid1\",\"up\":2..."
      ]
     },
     "metadata": {},
     "output_type": "display_data"
    },
    {
     "data": {
      "text/html": [
       "<div>\n",
       "<style scoped>\n",
       "    .dataframe tbody tr th:only-of-type {\n",
       "        vertical-align: middle;\n",
       "    }\n",
       "\n",
       "    .dataframe tbody tr th {\n",
       "        vertical-align: top;\n",
       "    }\n",
       "\n",
       "    .dataframe thead th {\n",
       "        text-align: right;\n",
       "    }\n",
       "</style>\n",
       "<table border=\"1\" class=\"dataframe\">\n",
       "  <thead>\n",
       "    <tr style=\"text-align: right;\">\n",
       "      <th></th>\n",
       "      <th>0</th>\n",
       "    </tr>\n",
       "  </thead>\n",
       "  <tbody>\n",
       "    <tr>\n",
       "      <th>2024-05-02 07:46:01.116306</th>\n",
       "      <td>1</td>\n",
       "    </tr>\n",
       "    <tr>\n",
       "      <th>2024-05-02 07:46:30.853344</th>\n",
       "      <td>{\"id\":\"80:65:99:83:D6:CC\",\"name\":\"cid1\",\"up\":2...</td>\n",
       "    </tr>\n",
       "  </tbody>\n",
       "</table>\n",
       "</div>"
      ],
      "text/plain": [
       "                                                                            0\n",
       "2024-05-02 07:46:01.116306                                                  1\n",
       "2024-05-02 07:46:30.853344  {\"id\":\"80:65:99:83:D6:CC\",\"name\":\"cid1\",\"up\":2..."
      ]
     },
     "metadata": {},
     "output_type": "display_data"
    },
    {
     "name": "stdout",
     "output_type": "stream",
     "text": [
      "In on_message\n",
      "test b'hogehoge'\n"
     ]
    }
   ],
   "source": [
    "import paho.mqtt.client as mqtt #import the mqtt client\n",
    "import pandas as pd #import the pandas library\n",
    "import time #import the time library\n",
    "import json #import the json library\n",
    "from datetime import datetime, timedelta, date #import the datetime library\n",
    "\n",
    "def on_connect(client, userdata, flags, rc): #define the on_connect function\n",
    "    client.subscribe(\"test\") #subscribe to the test topic, replace with your own topic\n",
    "\n",
    "def on_message(client, userdata, msg): #define the on_message function\n",
    "    print('In on_message')\n",
    "    print(msg.topic + \" \" + str(msg.payload)) #print the topic and the message\n",
    "    global val #make the val variable global\n",
    "    val = msg.payload.decode() #decode the message\n",
    "\n",
    "val = None #initialize the val variable\n",
    "df = pd.DataFrame() #initialize the dataframe\n",
    "client = mqtt.Client() #create a new mqtt client\n",
    "client.on_connect = on_connect #set the on_connect function\n",
    "client.on_message = on_message #set the on_message function\n",
    "\n",
    "mqtt_server_url = \"test.mosquitto.org\" #define the mqtt server url\n",
    "#mqtt_server_url = \"broker.hivemq.com\" #define the mqtt server url\n",
    "client.connect(mqtt_server_url, 1883, 60) #connect to the mqtt server\n",
    "\n",
    "client.loop_start() #start the loop\n",
    "vals = [] #initialize the vals list\n",
    "timestamps = [] #initialize the timestamps list\n",
    "for i in range(2): #run the loop for x times resulting in x messages being received\n",
    "    while val is None: #wait for the message to be received\n",
    "        time.sleep(0.1) #sleep for 0.1 seconds\n",
    "    timestamps.append(datetime.now()) #get the current date and time\n",
    "    vals.append(val) #load the json message\n",
    "    val = None #reset the val variable\n",
    "\n",
    "df = pd.DataFrame(vals, index=timestamps) #create the dataframe    \n",
    "client.loop_stop() #stop the loop\n",
    "display(df) #display the dataframe\n"
   ]
  },
  {
   "cell_type": "code",
   "execution_count": null,
   "metadata": {},
   "outputs": [],
   "source": []
  }
 ],
 "metadata": {
  "kernelspec": {
   "display_name": "quarto_v2",
   "language": "python",
   "name": "python3"
  },
  "language_info": {
   "codemirror_mode": {
    "name": "ipython",
    "version": 3
   },
   "file_extension": ".py",
   "mimetype": "text/x-python",
   "name": "python",
   "nbconvert_exporter": "python",
   "pygments_lexer": "ipython3",
   "version": "3.11.5"
  }
 },
 "nbformat": 4,
 "nbformat_minor": 2
}
