{
  "cells": [
    {
      "cell_type": "markdown",
      "id": "14f458b4",
      "metadata": {},
      "source": [
        "#### Die Laplace Transformation\n",
        "oder die Anstrengung der Faulen.\n",
        "\n",
        "##### Warum Laplace\n",
        "Um eine Übertragungsfunktion zu berechnen, muss der Ausgang durch den Eingang dividiert werden. Wird das physikalische System durch eine lineare Gleichung beschrieben, ist das sehr einfach möglich und die Laplace Transformation ist nicht notwendig. Ein Beispiel dafür is das Ohmsche Gesetz.\n"
      ]
    },
    {
      "cell_type": "code",
      "execution_count": null,
      "id": "5d74c360",
      "metadata": {},
      "outputs": [],
      "source": [
        "#| code-fold: true\n",
        "U_ohm = MySymbol('U',description = 'Spannung am Widerstand als Ausgang')\n",
        "R_ohm = MySymbol('R_ohm',description = \"Ohmscher Widerstand als Übertragungsfunktion\")\n",
        "I_ohm = MySymbol('I',description = 'Strom am Widerstand als Eingang')\n",
        "\n",
        "R_ohm_eq=Eq(R_ohm,U_ohm/I_ohm)\n",
        "\n",
        "display(Markdown(f'$$\\n{latex(R_ohm_eq)}\\n$${{#eq-Ohm_eq}}'))\n",
        "\n",
        "QBookHelpers.print_description(R_ohm_eq.free_symbols)"
      ]
    },
    {
      "cell_type": "markdown",
      "id": "c1136c45",
      "metadata": {},
      "source": [
        "Wird das physikalische System aber durch eine Differenzialgleichung beschrieben, wie zum Beispiel bei einem Tiefpass, so wäre es notwendig, zuerst die Differenzialgleichung zu lösen, um die Übertragungsfunktion zu berechnen. Hier bietet die Laplace Transformation eine erhebliche Erleichterung.\n",
        "\n",
        "![Tiefpass](images/Tiefpass){#fig-Tiefpass}\n"
      ]
    },
    {
      "cell_type": "code",
      "execution_count": null,
      "id": "7af02e6f",
      "metadata": {},
      "outputs": [],
      "source": [
        "#| code-fold: true\n",
        "C_cap = MySymbol('C',description = 'Kapazität')\n",
        "#ut = MyFunction('u(t)',description = 'Spannung')\n",
        "\n",
        "t = MySymbol('t',description = 'Zeit')\n",
        "uct0 = MySymbol('u_{C}(0)',description = 'Spannung am Kondensator zum Zeitpunkt *t* = 0 s')\n",
        "R_ohm.description = 'Ohmscher Widerstand'\n",
        "ict = Function('i_c',description = 'Strom')(t)\n",
        "uint = Function('u_in',description = 'Eingangsspannung')(t)\n",
        "uct = Function('u_c',description = 'Ausgangsspannung')(t)\n",
        "\n",
        "ict_eq1=Eq(ict,1/C_cap*diff(uct,t))\n",
        "\n",
        "#uct_eq = Eq(integrate(ict_eq.rhs,t)*C_cap,integrate(ict_eq.lhs,t)*C_cap + uct0)\n",
        "\n",
        "ict_eq2 = Eq(ict,1/R_ohm*(uint-uct))\n",
        "QBookHelpers.print_equation(ict_eq1,label='eq-ict_eq1')\n",
        "QBookHelpers.print_equation(ict_eq2,label='eq-ict_eq2')"
      ]
    },
    {
      "cell_type": "markdown",
      "id": "61dc501d",
      "metadata": {},
      "source": [
        "Durch Gleichsetzten von  @eq-ict_eq1 und @eq-ict_eq2 ergibt sich die allgemeine Differenzialgleichung 1. Ordnung für den Tiefpass.\n"
      ]
    },
    {
      "cell_type": "code",
      "execution_count": null,
      "id": "13577297",
      "metadata": {},
      "outputs": [],
      "source": [
        "#| code-fold: true\n",
        "\n",
        "RCTP_eq = Eq(diff(uct,t)+1/(R_ohm*C_cap)*uct,1/(R_ohm*C_cap)*uint)\n",
        "\n",
        "QBookHelpers.print_equation(RCTP_eq)\n",
        "QBookHelpers.print_description(RCTP_eq.free_symbols)\n",
        "QBookHelpers.print_description({ict,uct,uint})"
      ]
    },
    {
      "cell_type": "markdown",
      "id": "3f15da3a",
      "metadata": {},
      "source": [
        "Müsste nun von dieser Differentialgleichung die Übertragungsfunktion, also $G=Ausgang/Eingang$, angegeben werden, so müsste zunächst die Differentialgleichung gelöst werden.  \n",
        "Die Laplace Transformation bietet hier einen alternativen Weg der mit weiteren Vorteilen verbunden ist wenn es darum geht Blöcke miteinander zu kombinieren oder Aussagen über das System zu treffen.\n",
        "\n",
        "##### Wie Laplace\n",
        "Die tiefere Mathematik der Laplacetransofrmation überlassen wir hier den Mathematiker:innen und den ersten Semstern eines Studiums. Wir wollen die Laplacetransformation lediglich als Werkzeug zur vereinfachung unserer Arbeit verwenden. Dazu benötigen wir folgende Grundregeln.  \n",
        "**TODO**\n"
      ]
    }
  ],
  "metadata": {
    "kernelspec": {
      "display_name": "Python 3 (ipykernel)",
      "language": "python",
      "name": "python3"
    }
  },
  "nbformat": 4,
  "nbformat_minor": 5
}
