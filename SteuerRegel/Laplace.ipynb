{
  "cells": [
    {
      "cell_type": "markdown",
      "metadata": {},
      "source": [
        "#### Die Laplace Transformation\n",
        "oder die Anstrengung der Faulen.\n",
        "\n",
        "##### Warum Laplace\n",
        " Um eine Übertragungsfunktion zu Berechnen muss der Ausgang durch den Eingang dividiert werden. Wird das physikalische System durch eine lineare Gleichung beschrieben ist das sehr Einfach möglich und die Laplace Transformation ist nicht notwendig. Ein Beispiel dafür is das Ohm'sche Gesetz.\n"
      ],
      "id": "14f458b4"
    },
    {
      "cell_type": "code",
      "metadata": {},
      "source": [
        "#| code-fold: true\n",
        "U_ohm = MySymbol('U',description = 'Spannung am Widerstand als Ausgang')\n",
        "R_ohm = MySymbol('R_ohm',description = \"Ohm'scher Widerstand als Übertragungsfunktion\")\n",
        "I_ohm = MySymbol('I',description = 'Strom am Widerstand als Eingang')\n",
        "\n",
        "R_ohm_eq=Eq(R_ohm,U_ohm/I_ohm)\n",
        "\n",
        "display(Markdown(f'$$\\n{latex(R_ohm_eq)}\\n$${{#eq-Ohm_eq}}'))\n",
        "\n",
        "QBookHelpers.print_description(R_ohm_eq.free_symbols)"
      ],
      "id": "5d74c360",
      "execution_count": null,
      "outputs": []
    },
    {
      "cell_type": "markdown",
      "metadata": {},
      "source": [
        "Wird das physikalische System aber durch eine Differentialgleichung beschrieben, wie zum Beispiel bei einem Tiefpass, so wäre es notwendig zuerst die Differentialgleichung zu lösen um die Übertragungsfunktion zu berechnen. Hier bietet die Lapalce Transformation eine erhebliche erleichterung.\n",
        "\n",
        "![Tiefpass](images/Tiefpass){#fig-Tiefpass}\n"
      ],
      "id": "c1136c45"
    },
    {
      "cell_type": "code",
      "metadata": {},
      "source": [
        "#| code-fold: true\n",
        "C_cap = MySymbol('C',description = 'Kapazität')\n",
        "#ut = MyFunction('u(t)',description = 'Spannung')\n",
        "\n",
        "t = MySymbol('t',description = 'Zeit')\n",
        "uct0 = MySymbol('u_{C}(0)',description = 'Spannung am Kondensator zum Zeitpunkz *t* = 0 s')\n",
        "R_ohm.description = 'Ohmscher Widerstand'\n",
        "ict = Function('i_c',description = 'Strom')(t)\n",
        "uint = Function('u_in',description = 'Eingangsspannung')(t)\n",
        "uct = Function('u_c',description = 'Ausgangsspannung')(t)\n",
        "\n",
        "ict_eq1=Eq(ict,1/C_cap*diff(uct,t))\n",
        "\n",
        "#uct_eq = Eq(integrate(ict_eq.rhs,t)*C_cap,integrate(ict_eq.lhs,t)*C_cap + uct0)\n",
        "\n",
        "ict_eq2 = Eq(ict,1/R_ohm*(uint-uct))\n",
        "QBookHelpers.print_equation(ict_eq1,label='eq-ict_eq1')\n",
        "QBookHelpers.print_equation(ict_eq2,label='eq-ict_eq2')"
      ],
      "id": "7af02e6f",
      "execution_count": null,
      "outputs": []
    },
    {
      "cell_type": "markdown",
      "metadata": {},
      "source": [
        "Durch Gleichsetzten von  @eq-ict_eq1 und @eq-ict_eq2 ergibt sich die allgemeine Differenzialgleichung 1. Ordnung für den Tiefpass.\n"
      ],
      "id": "61dc501d"
    },
    {
      "cell_type": "code",
      "metadata": {},
      "source": [
        "#| code-fold: true\n",
        "\n",
        "RCTP_eq = Eq(diff(uct,t)+1/(R_ohm*C_cap)*uct,1/(R_ohm*C_cap)*uint)\n",
        "\n",
        "QBookHelpers.print_equation(RCTP_eq)\n",
        "QBookHelpers.print_description(RCTP_eq.free_symbols)\n",
        "QBookHelpers.print_description({ict,uct,uint})"
      ],
      "id": "13577297",
      "execution_count": null,
      "outputs": []
    },
    {
      "cell_type": "markdown",
      "metadata": {},
      "source": [
        "Müsste nun von dieser Differentialgleichung die Übertragungsfunktion, also $G=Ausgang/Eingang$, angegeben werden, so müsste zunächst die Differentialgleichung gelöst werden.  \n",
        "Die Laplace Transformation bietet hier einen alternativen Weg der mit weiteren Vorteilen verbunden ist wenn es darum geht Blöcke miteinander zu kombinieren oder Aussagen über das System zu treffen.\n",
        "\n",
        "##### Wie Laplace\n",
        "Die tiefere Mathematik der Laplacetransofrmation überlassen wir hier den Mathematiker:innen und den ersten Semstern eines Studiums. Wir wollen die Laplacetransformation lediglich als Werkzeug zur vereinfachung unserer Arbeit verwenden. Dazu benötigen wir folgende Grundregeln.  \n",
        "**TODO**\n"
      ],
      "id": "3f15da3a"
    }
  ],
  "metadata": {
    "kernelspec": {
      "name": "python3",
      "language": "python",
      "display_name": "Python 3 (ipykernel)"
    }
  },
  "nbformat": 4,
  "nbformat_minor": 5
}