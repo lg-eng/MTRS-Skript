{
 "cells": [
  {
   "cell_type": "markdown",
   "id": "db2e3ca7-6437-47c0-8a94-5d125e04126d",
   "metadata": {},
   "source": [
    "# Steuer und Regelungstechnik"
   ]
  }
 ],
 "metadata": {
  "kernelspec": {
   "display_name": "Python 3 (ipykernel)",
   "language": "python",
   "name": "python3"
  },
  "language_info": {
   "codemirror_mode": {
    "name": "ipython",
    "version": 3
   },
   "file_extension": ".py",
   "mimetype": "text/x-python",
   "name": "python",
   "nbconvert_exporter": "python",
   "pygments_lexer": "ipython3",
   "version": "3.8.15"
  }
 },
 "nbformat": 4,
 "nbformat_minor": 5
}
