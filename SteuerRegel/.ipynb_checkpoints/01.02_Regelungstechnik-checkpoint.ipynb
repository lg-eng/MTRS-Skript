{
  "cells": [
    {
      "cell_type": "markdown",
      "metadata": {},
      "source": [
        "# Regelungstechnik\n"
      ],
      "id": "30590fd7"
    },
    {
      "cell_type": "code",
      "metadata": {},
      "source": [
        "#| code-fold: true\n",
        "#| echo: false\n",
        "\n",
        "#import sys\n",
        "# adding Folder_2 to the system path\n",
        "#sys.path.insert(0, '../../../Common/QuartoBookHelpers')\n",
        "#import QuartoBookHelpers\n",
        "\n",
        "from IPython.display import Markdown, Latex\n",
        "\n",
        "from sympy import *\n",
        "import numpy as np\n",
        "from matplotlib import pyplot as plt\n",
        "\n",
        "class MySymbol(Symbol):\n",
        "    def __new__(cls, name, description='',unit='',value=''):\n",
        "        obj = Symbol.__new__(cls, name)\n",
        "        obj.description = description\n",
        "        obj.unit = unit\n",
        "        obj.value = value\n",
        "        \n",
        "        return obj\n",
        "\n",
        "class MyFunction(Function):\n",
        "    def __new__(cls, name, description='',unit='',value=''):\n",
        "        obj = Function.__new__(cls, name)\n",
        "        obj.description = description\n",
        "        obj.unit = unit\n",
        "        obj.value = value\n",
        "        \n",
        "        return obj\n",
        "        \n",
        "class QBookHelpers():\n",
        "    def print_description(dic):\n",
        "        for vari in dic:\n",
        "            display(Markdown(f'${latex(vari)}$' + ' ... ' + vari.description))\n",
        "            \n",
        "    def print_equation(eq,**kwargs):\n",
        "        #print(kwargs)\n",
        "        if kwargs != {}:\n",
        "            label = kwargs['label']\n",
        "            #print(label)\n",
        "            #pass\n",
        "            display(Markdown(f'$$\\n{latex(eq)}\\n$${{#' + label + f'}}'))\n",
        "        else:      \n",
        "            display(Markdown(f'$$\\n{latex(eq)}\\n$${{#eq-Dummy}}'))\n"
      ],
      "id": "6ae66975",
      "execution_count": null,
      "outputs": []
    },
    {
      "cell_type": "markdown",
      "metadata": {},
      "source": [
        "In diesem Teil des Skriptums geht es darum wie wir Maschinen und Schaltungen dazu bringen, trotz Störeinflüssen das gewünsche Verhalten zu Zeigen. Zum Beipiel soll ein Tempomant des Autos die Geschwindigkeit halten, trotz starkem Gegenwindes. Es werden die Grundlagen der Regelungstechnik vermittelt. Dabei wird das theoretische Wissen anhand konkreter Anwendungen erarbeitet.\n",
        "\n",
        "## Warum wir regeln\n",
        "<div style=\"text-align: justify\">\n",
        "    \n",
        "Viele Aufgaben von Maschinen können auch durch Steuern umgesetzt werden. Eine Regelung erlaubt es aber auf unerwünschte Einflüsse, sogenannte Störgrößen, zu reagieren. Als Beispiel soll der Tempomat, Geschwindigkeitsregelanlage, des Autos dienen. Die Aufgabe des Tempomates ist es, die Geschwindigkeit, Regelgröße, konstant zu halten. Als unerwünschte Einflüsse, Störgrößen, sind alle physikalischen Größen zu betrachten, welche die Geschwindigkeit beeinflussen. Beispiele sind die Steigung der Straße und Wind.  \n",
        "Die Geschwindigkeit des Autos wird über die Leistung, Stellgröße, bestimmt. Führt die Straße Bergauf wird mehr Leistung für die gleiche Geschwindigkeit benötigt. Es muss also die Leistung laufend angepasst werden, um eine konstante Geschwindigkeit zu erhalten.  \n",
        "Bei einer Steuerung würde eine Leistung eingestellt werden und sich daraus eine Geschwindigkeit ergeben. Dieses wäre jedoch nur für einen voreingestellten Fall identisch mit der gewünschten Geschwindigkeit.   \n",
        "\n",
        "</div>\n",
        "\n",
        "## Wie wir regeln - Der Standardregelkreis\n",
        "<div style=\"text-align: justify\">\n",
        "Regeln ist ein Vorgang, bei dem der IST-Wert einer Größe gemessen und, durch Nachstellen der Stellgröße, dem SOLL-Wert angeglichen wird.  \n",
        "Dazu wird das Ergebnis an den Eingang zurück geführt und vom Sollwert subtrahiert. Es entsteht eine Rückkopplung. Durch das negative Vorzeichen handelt es sich um eine Rückkopplung im Spezialfall einer Gegenkopplung. Die Differenz aus dem Sollwert und dem zurückgeführten Istwert ist die sogenannte Regelabweichung welche über den Regler zur Stellgröße wird. Die Stellgröße ist nun die physikalische Größe die die Regelstrecke zum gewünschten Verhalten führt.\n",
        "    \n",
        "</div>\n",
        "\n",
        "![Standardregelkreis](images/Vollsändiger_Regelkreis){#fig-Regelkreis}\n",
        "\n",
        "### Reglertypen\n",
        "Es kann zwischen zwei Arten von Reglern unterschieden werden. Erstere sind einfache Regler die die Stellgröße nur zwischen verschiedenen Zuständen hin und her Schalten können. Zum Beispiel Ein / Aus. Oder die Gänge eines Automatikgetriebes. Diese Regler werden **unstetige Regler** genannt. Unstetige Regler können gut mittels Hysteresen beschrieben werden.  \n",
        "Der zweite Typ von Regler kann die Stellgröße kontinurierlich anpassen. Diese Regler werden **stetige Regler** genannt. Stetige Regler können gut mit mathematische Gleichungen im Laplacebereich beschrieben werden.  \n",
        "\n",
        "## Unstetige Regler\n",
        "Klassische unstetige Regler sind Bimetallschalter. Diese werden zum Beipiel bei Heizlüftern eingesetzt. \n",
        "**TODO**\n"
      ],
      "id": "04d50a43"
    },
    {
      "cell_type": "code",
      "metadata": {},
      "source": [
        "#| code-fold: true\n",
        "#| echo: false\n",
        "#| \n",
        "\n",
        "T = MySymbol('T',description='Temperatur')\n",
        "Tref = MySymbol('T_ref',description='Referenz Temperatur')\n",
        "deltaTein = MySymbol('\\Delta T_ein',description='Einschaltschwelle')\n",
        "deltaTaus = MySymbol('\\Delta T_aus',description='Ausschaltschwelle')\n",
        "\n",
        "T.value = np.arange(15,25,0.01)\n",
        "Tref.value = 20\n",
        "\n",
        "plt.plot(T.value,-np.sign(T.value-Tref.value))\n",
        "\n",
        "QBookHelpers.print_description({T,Tref,deltaTein,deltaTaus})"
      ],
      "id": "7f2b0f2d",
      "execution_count": null,
      "outputs": []
    },
    {
      "cell_type": "markdown",
      "metadata": {},
      "source": [
        "### Zweipunktregler\n",
        "Der Zweipunktregler kann, wie der name schon sagt, die Stellgröße zwischen zwei Zuständen schalten. Zum Beipiel die Heizung einschalten wenn die Temperatur zu niedrig ist und wieder Abschalten wenn die Temperatur hoch genug ist.  \n",
        "Die Schaltpunkte werden über eine Hysterese definiert.\n",
        "\n",
        "## Stetige Regler \n",
        "Für das Verständnis von stetigen Reglern ist es hilfreich die Regelungstechnik mathematisch zu betrachten, da sich die ein Regler sehr gut mit Formeln beschreiben und erklären lässt. In einem eigenen Kapitel soll bewhandelt werden wie Regler praxisnahe implementiert werden können.  \n",
        "Der oben gezeigte Regelkreis, @fig-Regelkreis, lässt sich mathematisch als Übertragungsfunktion beschreiben. Hier werden ausschließlich SISO (Single Input Single Output) Systeme betrachtet. Das Bedeutet Systeme die einen Eingang und einen Ausgang haben. Jeder Block kann einzeln mit einer Übertragungsfunktion, analog der Vierpoltheorie aus KSN, beschrieben werden. Wie auch in der Vierpoltheorie kann aber auch eine Verschaltung von Blöcken als Übertragungsfunktion beschrieben werden. Ein Block wird in der Regelungstechnik auch als **Strecke** bezeichnet.\n",
        "\n",
        "### Die Übertragungsfunktion\n",
        "Die Übertragungsfunktion Beschreibt den Zusammenhang zwischen Ausgang und Eingang. Um die Mathematik möglichst einfach zu halten wird in der Regelungstechnik im Laplace Bereich gearbeitet. Dadurch ist  es nicht notwendig die Diffenrentialgleichung bei physikalischen Systemen, die durch eine Differentialgleichung beschrieben werden, zu lösen.   \n"
      ],
      "id": "c2839499"
    },
    {
      "cell_type": "code",
      "metadata": {},
      "source": [
        "#| code-fold: true\n",
        "E = MySymbol('E',description = 'Eingang')\n",
        "V = MySymbol('V',description = 'Verarbeitung, die Übertragungsfunktion')\n",
        "A = MySymbol('A',description = 'Ausgang')\n",
        "G = MySymbol('G',description = 'Allgemeine Übertragungsfunktion')\n",
        "\n",
        "Veq = Eq(V,A/E)\n",
        "\n",
        "display(Markdown(f'$$\\n{latex(Veq)}\\n$${{#eq-EVA}}'))\n",
        "\n",
        "QBookHelpers.print_description(Veq.free_symbols)"
      ],
      "id": "70f78a7d",
      "execution_count": null,
      "outputs": []
    },
    {
      "cell_type": "markdown",
      "metadata": {},
      "source": [
        "Gängige Bezeichnungen der Übertragungsfunktion der einzelnen Blöcke ist wie folgt.\n"
      ],
      "id": "25194e5b"
    },
    {
      "cell_type": "code",
      "metadata": {},
      "source": [
        "#| code-fold: true\n",
        "G = MySymbol('G',description = 'Übertragungsfunktion der zu Regelnden Strecke')\n",
        "R = MySymbol('R',description = 'Übertragungsfunktion des Reglers')\n",
        "M = MySymbol('M',description = 'Übertragungsfunktion des Sensors')\n",
        "\n",
        "QBookHelpers.print_description({G,R,M})"
      ],
      "id": "205c206d",
      "execution_count": null,
      "outputs": []
    },
    {
      "cell_type": "markdown",
      "metadata": {},
      "source": [
        "### Die Laplace Transformation\n",
        "oder die Anstrengung der Faulen.\n",
        "\n",
        "#### Warum Laplace\n",
        " Um eine Übertragungsfunktion zu Berechnen muss der Ausgang durch den Eingang dividiert werden. Wird das physikalische System durch eine lineare Gleichung beschrieben ist das sehr Einfach möglich und die Laplace Transformation ist nicht notwendig. Ein Beispiel dafür is das Ohm'sche Gesetz.\n"
      ],
      "id": "aea0dc6f"
    },
    {
      "cell_type": "code",
      "metadata": {},
      "source": [
        "#| code-fold: true\n",
        "U_ohm = MySymbol('U',description = 'Spannung am Widerstand als Ausgang')\n",
        "R_ohm = MySymbol('R_ohm',description = \"Ohm'scher Widerstand als Übertragungsfunktion\")\n",
        "I_ohm = MySymbol('I',description = 'Strom am Widerstand als Eingang')\n",
        "\n",
        "R_ohm_eq=Eq(R_ohm,U_ohm/I_ohm)\n",
        "\n",
        "display(Markdown(f'$$\\n{latex(R_ohm_eq)}\\n$${{#eq-Ohm_eq}}'))\n",
        "\n",
        "QBookHelpers.print_description(R_ohm_eq.free_symbols)"
      ],
      "id": "cfa7ab21",
      "execution_count": null,
      "outputs": []
    },
    {
      "cell_type": "markdown",
      "metadata": {},
      "source": [
        "Wird das physikalische System aber durch eine Differentialgleichung beschrieben, wie zum Beispiel bei einem Tiefpass, so wäre es notwendig zuerst die Differentialgleichung zu lösen um die Übertragungsfunktion zu berechnen. Hier bietet die Lapalce Transformation eine erhebliche erleichterung.\n",
        "\n",
        "![Tiefpass](images/Tiefpass){#fig-Tiefpass}\n"
      ],
      "id": "93c28038"
    },
    {
      "cell_type": "code",
      "metadata": {},
      "source": [
        "#| code-fold: true\n",
        "C_cap = MySymbol('C',description = 'Kapazität')\n",
        "#ut = MyFunction('u(t)',description = 'Spannung')\n",
        "\n",
        "t = MySymbol('t',description = 'Zeit')\n",
        "uct0 = MySymbol('u_{C}(0)',description = 'Spannung am Kondensator zum Zeitpunkz *t* = 0 s')\n",
        "R_ohm.description = 'Ohmscher Widerstand'\n",
        "ict = Function('i_c',description = 'Strom')(t)\n",
        "uint = Function('u_in',description = 'Eingangsspannung')(t)\n",
        "uct = Function('u_c',description = 'Ausgangsspannung')(t)\n",
        "\n",
        "ict_eq1=Eq(ict,1/C_cap*diff(uct,t))\n",
        "\n",
        "#uct_eq = Eq(integrate(ict_eq.rhs,t)*C_cap,integrate(ict_eq.lhs,t)*C_cap + uct0)\n",
        "\n",
        "ict_eq2 = Eq(ict,1/R_ohm*(uint-uct))\n",
        "QBookHelpers.print_equation(ict_eq1,label='eq-ict_eq1')\n",
        "QBookHelpers.print_equation(ict_eq2,label='eq-ict_eq2')"
      ],
      "id": "fb9606a3",
      "execution_count": null,
      "outputs": []
    },
    {
      "cell_type": "markdown",
      "metadata": {},
      "source": [
        "Durch Gleichsetzten von  @eq-ict_eq1 und @eq-ict_eq2 ergibt sich die allgemeine Differenzialgleichung 1. Ordnung für den Tiefpass.\n"
      ],
      "id": "283113eb"
    },
    {
      "cell_type": "code",
      "metadata": {},
      "source": [
        "#| code-fold: true\n",
        "\n",
        "RCTP_eq = Eq(diff(uct,t)+1/(R_ohm*C_cap)*uct,1/(R_ohm*C_cap)*uint)\n",
        "\n",
        "QBookHelpers.print_equation(RCTP_eq)\n",
        "QBookHelpers.print_description(RCTP_eq.free_symbols)\n",
        "QBookHelpers.print_description({ict,uct,uint})"
      ],
      "id": "33b45e10",
      "execution_count": null,
      "outputs": []
    },
    {
      "cell_type": "markdown",
      "metadata": {},
      "source": [
        "Müsste nun von dieser Differentialgleichung die Übertragungsfunktion, also $G=Ausgang/Eingang$, angegeben werden, so müsste zunächst die Differentialgleichung gelöst werden.  \n",
        "Die Laplace Transformation bietet hier einen alternativen Weg der mit weiteren Vorteilen verbunden ist wenn es darum geht Blöcke miteinander zu kombinieren oder Aussagen über das System zu treffen.\n",
        "\n",
        "#### Wie Laplace\n",
        "Die tiefere Mathematik der Laplacetransofrmation überlassen wir hier den Mathematiker:innen und den ersten Semstern eines Studiums. Wir wollen die Laplacetransformation lediglich als Werkzeug zur vereinfachung unserer Arbeit verwenden. Dazu benötigen wir folgende Grundregeln.  \n",
        "Vereinfacht ist die Laplacetransformation als eine Übersetzung aus dem Zeitbereich, also mit der varaible $t$, in den Frequenzbereich mit der Variable $s$ zu verstehen. Die Übersetzung erfolgt in vielen Fällen sehr einfach mittels Tabelle. Hier wird die Transformation nur für ausgewählte Signale und mathematische Operationen angeführt.  \n",
        "\n",
        "\n",
        "| Zeitbereich x(t) | Frequenzbereich X(s) | Bemerkung |\n",
        "| :---             | :------ |:----------|\n",
        "| $\\frac{d \\ x(t)}{d \\ t}$ |$s \\cdot X(s) - x(0)$ |Transformation der Ableitung nach der Zeit, $x(0)$ ist dabei der Wert zum Zeitpunkt Null. Bei einem Kondensator wäre dies zum Beispiel der Ladezustand zu Beginn.|\n",
        "| ${ \\int x(t) \\, d \\ t}$  |$\\frac{1}{s} \\cdot X(s)$  |Transformation der Integration über der Zeit|\n",
        "| $\\delta (t)$ | $1$ | Transformation des Impulses|\n",
        "| $\\sigma (t)$ | $\\frac{1}{s}$| Transformation des Sprunges|\n",
        "| $e^{at}$| $\\frac{1}{s -a}$| |\n",
        "| $\\frac{1}{a} e^{\\frac{-t}{a}}$| $\\frac{1}{1 + as}$| |\n",
        "\n",
        "\n",
        "\n",
        "\n",
        "\n",
        "### Zusammenschaltung von Blöcken\n",
        "Werden Blöcke kombiniert können die resultierenden Übertragungsfunktionen berechnet werden.  \n",
        "Zur vereinfachung kann die Übertragungsfunktion des Sensors mit $M=1$ angenommen werden, $M=1$, wenn dieser im Verhälnis zur Strecke und zum Regler vernachlässigbar ist. Dies ist zum Beispiel der Fall wenn der Sensor viel schneller ist als die Strecke und der Regler. Diese Vorraussetzung ist für viele Systeme gegeben.  \n",
        "\n",
        "Für den Regelkreis, @fig-Regelkreis, ergebn sich folgende Möglichkeiten.\n",
        "\n",
        "#### Die Führungsübertragungsfunktion\n",
        "Die Führungsübertragungsfunktion gibt das Verhältnis zwischen Sollgröße und Istgröße an. Sie Beschreibt damit das Verhalten des Regelkreises mit der Sollgröße als Eingang und der Istgröße als Ausgang. Ist eine Regelstrecke ideal so ist die die Führungsübertragungsfunktion gleich Eins.\n"
      ],
      "id": "a49eef0b"
    },
    {
      "cell_type": "code",
      "metadata": {},
      "source": [
        "#| code-fold: true\n",
        "Fw = MySymbol('F_w',description = 'Führungsübertragungsfunktion')\n",
        "\n",
        "Fw_eq=Eq(Fw,R*G*M/(1+R*G*M))\n",
        "\n",
        "display(Markdown(f'$$\\n{latex(Fw_eq)}\\n$${{#eq-Fw_eq}}'))\n",
        "\n",
        "QBookHelpers.print_description({Fw})"
      ],
      "id": "95b6a4ce",
      "execution_count": null,
      "outputs": []
    },
    {
      "cell_type": "markdown",
      "metadata": {},
      "source": [
        "#### Die Schleifenübertragungsfunktion\n",
        "Die Schleifenübertragungsfunktion ist die Übertragungsfunktion des offenen Regelkreises, also ohne Rückkopplung und ist im Laplace Bereich eine einfache Multiplikation.\n"
      ],
      "id": "96ba27cd"
    },
    {
      "cell_type": "code",
      "metadata": {},
      "source": [
        "#| code-fold: true\n",
        "Fo = MySymbol('F_o',description = 'Schleifenübertragungsfunktion')\n",
        "\n",
        "Fo_eq=Eq(Fo,R*G)\n",
        "\n",
        "QBookHelpers.print_equation(Fo_eq)\n",
        "QBookHelpers.print_description({Fo})"
      ],
      "id": "6d207de8",
      "execution_count": null,
      "outputs": []
    },
    {
      "cell_type": "markdown",
      "metadata": {},
      "source": [
        "#### Die Störübertragungsfunktion\n",
        "Die Störübertragungsfunktion beschreibt wie sich die Störgröße auf den Ausgang auswirkt.\n"
      ],
      "id": "bae5136a"
    },
    {
      "cell_type": "code",
      "metadata": {},
      "source": [
        "#| code-fold: true\n",
        "Fs = MySymbol('F_s',description = 'Störübertragungsfunktion')\n",
        "\n",
        "Fs_eq=Eq(Fs,G/(1+Fo))\n",
        "\n",
        "QBookHelpers.print_equation(Fs_eq)\n",
        "QBookHelpers.print_description({Fs})"
      ],
      "id": "edeb0418",
      "execution_count": null,
      "outputs": []
    }
  ],
  "metadata": {
    "kernelspec": {
      "name": "python3",
      "language": "python",
      "display_name": "Python 3 (ipykernel)"
    }
  },
  "nbformat": 4,
  "nbformat_minor": 5
}