{
  "cells": [
    {
      "cell_type": "markdown",
      "metadata": {},
      "source": [
        "## Unstetige Regler\n",
        "Klassische unstetige Regler sind Bimetallschalter. Diese werden zum Beipiel bei Heizlüftern eingesetzt. \n",
        "**TODO**\n"
      ],
      "id": "1762e9e3"
    },
    {
      "cell_type": "code",
      "metadata": {},
      "source": [
        "#| code-fold: true\n",
        "#| echo: false\n",
        "#| \n",
        "\n",
        "T = MySymbol('T',description='Temperatur')\n",
        "Tref = MySymbol('Tref',description='Referenz Temperatur')\n",
        "\n",
        "T.value = np.arange(15,25,0.01)\n",
        "Tref.value = 20\n",
        "\n",
        "plt.plot(T.value,np.sign(T.value-Tref.value))"
      ],
      "id": "273dbe36",
      "execution_count": null,
      "outputs": []
    },
    {
      "cell_type": "markdown",
      "metadata": {},
      "source": [
        "### Zweipunktregler\n",
        "Der Zweipunktregler kann, wie der name schon sagt, die Stellgröße zwischen zwei Zuständen schalten. Zum Beipiel die Heizung einschalten wenn die Temperatur zu niedrig ist und wieder Abschalten wenn die Temperatur hoch genug ist.  \n",
        "Die Schaltpunkte werden über eine Hysterese definiert."
      ],
      "id": "48134d2f"
    }
  ],
  "metadata": {
    "kernelspec": {
      "name": "python3",
      "language": "python",
      "display_name": "Python 3 (ipykernel)"
    }
  },
  "nbformat": 4,
  "nbformat_minor": 5
}